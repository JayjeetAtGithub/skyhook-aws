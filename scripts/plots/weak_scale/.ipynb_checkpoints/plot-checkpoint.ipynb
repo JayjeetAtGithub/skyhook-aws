{
 "cells": [
  {
   "cell_type": "code",
   "execution_count": 1,
   "id": "bd175de3",
   "metadata": {},
   "outputs": [],
   "source": [
    "import os\n",
    "import json\n",
    "import numpy as np\n",
    "\n",
    "import matplotlib.pyplot as plt"
   ]
  },
  {
   "cell_type": "code",
   "execution_count": 2,
   "id": "307673bd",
   "metadata": {},
   "outputs": [],
   "source": [
    "def clean_string(path):\n",
    "    path = path.replace(\".\", \"_\")\n",
    "    path = path.replace(\"/\", \"_\")\n",
    "    return path\n",
    "\n",
    "def plot(path, line_colors, param, param_title):\n",
    "    results = {\n",
    "        'write_data': None,\n",
    "        'seq_data': None,\n",
    "        'rand_data': None\n",
    "    }\n",
    "    filenames = [\n",
    "        os.path.join(path, \"write.json\"),\n",
    "        os.path.join(path, \"seq.json\"),\n",
    "        os.path.join(path, \"rand.json\")\n",
    "    ]\n",
    "    for filename, line_color in zip(filenames, line_colors):\n",
    "        with open(filename, 'r') as f:\n",
    "            results[f'{filename[:-5]}_data'] = json.loads(f.read())['datas']  \n",
    "\n",
    "        x = list()\n",
    "        y = list()\n",
    "        for itr in results[f'{filename[:-5]}_data']:\n",
    "            x.append(int(itr['sec']))\n",
    "            y.append(float(itr[param]))\n",
    "            \n",
    "        plt.plot(x, y, markersize=10, linewidth=3.0, color=line_color)\n",
    "\n",
    "    plt.legend(['Write', 'Sequential read', 'Random read'])\n",
    "    plt.xlabel('Time (s)')\n",
    "    plt.ylabel(f\"{param_title}\")\n",
    "    path = clean_string(path)\n",
    "    plt.title(f\"weakscale - {path}\")\n",
    "    plt.savefig(f\"weakscale{path}.pdf\", bbox='tight')\n",
    "    plt.show()\n",
    "    plt.cla()\n",
    "    plt.clf()"
   ]
  },
  {
   "cell_type": "code",
   "execution_count": 3,
   "id": "57d482b2",
   "metadata": {},
   "outputs": [],
   "source": [
    "results='../../results/4nodes16osds'"
   ]
  },
  {
   "cell_type": "code",
   "execution_count": 4,
   "id": "f2626de6",
   "metadata": {},
   "outputs": [
    {
     "ename": "FileNotFoundError",
     "evalue": "[Errno 2] No such file or directory: '../../results/4nodes16osds/weak_scale_18_180/16/write.json'",
     "output_type": "error",
     "traceback": [
      "\u001b[0;31m---------------------------------------------------------------------------\u001b[0m",
      "\u001b[0;31mFileNotFoundError\u001b[0m                         Traceback (most recent call last)",
      "Input \u001b[0;32mIn [4]\u001b[0m, in \u001b[0;36m<module>\u001b[0;34m\u001b[0m\n\u001b[1;32m      2\u001b[0m \u001b[38;5;28;01mfor\u001b[39;00m object_size \u001b[38;5;129;01min\u001b[39;00m os\u001b[38;5;241m.\u001b[39mlistdir(os\u001b[38;5;241m.\u001b[39mpath\u001b[38;5;241m.\u001b[39mjoin(results, num_osd)):\n\u001b[1;32m      3\u001b[0m     data_path \u001b[38;5;241m=\u001b[39m os\u001b[38;5;241m.\u001b[39mpath\u001b[38;5;241m.\u001b[39mjoin(results, num_osd, object_size)\n\u001b[0;32m----> 4\u001b[0m     \u001b[43mplot\u001b[49m\u001b[43m(\u001b[49m\u001b[43mdata_path\u001b[49m\u001b[43m,\u001b[49m\u001b[43m \u001b[49m\u001b[43m[\u001b[49m\u001b[38;5;124;43m'\u001b[39;49m\u001b[38;5;124;43mred\u001b[39;49m\u001b[38;5;124;43m'\u001b[39;49m\u001b[43m,\u001b[49m\u001b[43m \u001b[49m\u001b[38;5;124;43m'\u001b[39;49m\u001b[38;5;124;43mblue\u001b[39;49m\u001b[38;5;124;43m'\u001b[39;49m\u001b[43m,\u001b[49m\u001b[43m \u001b[49m\u001b[38;5;124;43m'\u001b[39;49m\u001b[38;5;124;43mgreen\u001b[39;49m\u001b[38;5;124;43m'\u001b[39;49m\u001b[43m]\u001b[49m\u001b[43m,\u001b[49m\u001b[43m \u001b[49m\u001b[38;5;124;43m'\u001b[39;49m\u001b[38;5;124;43mcurr_bw\u001b[39;49m\u001b[38;5;124;43m'\u001b[39;49m\u001b[43m,\u001b[49m\u001b[43m \u001b[49m\u001b[38;5;124;43m'\u001b[39;49m\u001b[38;5;124;43mThroughput (MB/s)\u001b[39;49m\u001b[38;5;124;43m'\u001b[39;49m\u001b[43m)\u001b[49m\n",
      "Input \u001b[0;32mIn [2]\u001b[0m, in \u001b[0;36mplot\u001b[0;34m(path, line_colors, param, param_title)\u001b[0m\n\u001b[1;32m     12\u001b[0m filenames \u001b[38;5;241m=\u001b[39m [\n\u001b[1;32m     13\u001b[0m     os\u001b[38;5;241m.\u001b[39mpath\u001b[38;5;241m.\u001b[39mjoin(path, \u001b[38;5;124m\"\u001b[39m\u001b[38;5;124mwrite.json\u001b[39m\u001b[38;5;124m\"\u001b[39m),\n\u001b[1;32m     14\u001b[0m     os\u001b[38;5;241m.\u001b[39mpath\u001b[38;5;241m.\u001b[39mjoin(path, \u001b[38;5;124m\"\u001b[39m\u001b[38;5;124mseq.json\u001b[39m\u001b[38;5;124m\"\u001b[39m),\n\u001b[1;32m     15\u001b[0m     os\u001b[38;5;241m.\u001b[39mpath\u001b[38;5;241m.\u001b[39mjoin(path, \u001b[38;5;124m\"\u001b[39m\u001b[38;5;124mrand.json\u001b[39m\u001b[38;5;124m\"\u001b[39m)\n\u001b[1;32m     16\u001b[0m ]\n\u001b[1;32m     17\u001b[0m \u001b[38;5;28;01mfor\u001b[39;00m filename, line_color \u001b[38;5;129;01min\u001b[39;00m \u001b[38;5;28mzip\u001b[39m(filenames, line_colors):\n\u001b[0;32m---> 18\u001b[0m     \u001b[38;5;28;01mwith\u001b[39;00m \u001b[38;5;28;43mopen\u001b[39;49m\u001b[43m(\u001b[49m\u001b[43mfilename\u001b[49m\u001b[43m,\u001b[49m\u001b[43m \u001b[49m\u001b[38;5;124;43m'\u001b[39;49m\u001b[38;5;124;43mr\u001b[39;49m\u001b[38;5;124;43m'\u001b[39;49m\u001b[43m)\u001b[49m \u001b[38;5;28;01mas\u001b[39;00m f:\n\u001b[1;32m     19\u001b[0m         results[\u001b[38;5;124mf\u001b[39m\u001b[38;5;124m'\u001b[39m\u001b[38;5;132;01m{\u001b[39;00mfilename[:\u001b[38;5;241m-\u001b[39m\u001b[38;5;241m5\u001b[39m]\u001b[38;5;132;01m}\u001b[39;00m\u001b[38;5;124m_data\u001b[39m\u001b[38;5;124m'\u001b[39m] \u001b[38;5;241m=\u001b[39m json\u001b[38;5;241m.\u001b[39mloads(f\u001b[38;5;241m.\u001b[39mread())[\u001b[38;5;124m'\u001b[39m\u001b[38;5;124mdatas\u001b[39m\u001b[38;5;124m'\u001b[39m]  \n\u001b[1;32m     21\u001b[0m     x \u001b[38;5;241m=\u001b[39m \u001b[38;5;28mlist\u001b[39m()\n",
      "\u001b[0;31mFileNotFoundError\u001b[0m: [Errno 2] No such file or directory: '../../results/4nodes16osds/weak_scale_18_180/16/write.json'"
     ]
    }
   ],
   "source": [
    "for num_osd in os.listdir(results):\n",
    "    for object_size in os.listdir(os.path.join(results, num_osd)):\n",
    "        data_path = os.path.join(results, num_osd, object_size)\n",
    "        plot(data_path, ['red', 'blue', 'green'], 'curr_bw', 'Throughput (MB/s)')"
   ]
  },
  {
   "cell_type": "code",
   "execution_count": null,
   "id": "2b7663c3",
   "metadata": {},
   "outputs": [],
   "source": []
  }
 ],
 "metadata": {
  "kernelspec": {
   "display_name": "Python 3 (ipykernel)",
   "language": "python",
   "name": "python3"
  },
  "language_info": {
   "codemirror_mode": {
    "name": "ipython",
    "version": 3
   },
   "file_extension": ".py",
   "mimetype": "text/x-python",
   "name": "python",
   "nbconvert_exporter": "python",
   "pygments_lexer": "ipython3",
   "version": "3.9.7"
  }
 },
 "nbformat": 4,
 "nbformat_minor": 5
}
